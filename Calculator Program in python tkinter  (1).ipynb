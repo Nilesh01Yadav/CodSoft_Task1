{
 "cells": [
  {
   "cell_type": "markdown",
   "id": "0e347e58-20d8-4f7d-8353-f0ea4c922833",
   "metadata": {},
   "source": [
    "# CALCULATOR\n"
   ]
  },
  {
   "cell_type": "markdown",
   "id": "cc44014e-72b9-4a5a-9221-d918681e03e6",
   "metadata": {},
   "source": [
    "# How to create Calculator using python tkinter ...................."
   ]
  },
  {
   "cell_type": "code",
   "execution_count": null,
   "id": "5fe2c5c9-d59d-4004-acd1-2fe33edfc4c2",
   "metadata": {},
   "outputs": [],
   "source": [
    "Design a simple calculator with basic arithmetic operations.\n",
    "Prompt the user to input two numbers and an operation choice.\n",
    "Perform the calculation and display the result."
   ]
  },
  {
   "cell_type": "code",
   "execution_count": 2,
   "id": "c3dd9fda-2012-43e8-8a51-3c0483bb8ed7",
   "metadata": {},
   "outputs": [],
   "source": [
    "from tkinter import Tk, Entry ,Button , StringVar\n",
    "\n",
    "class Calculator :\n",
    "    # Define function for the operation ...................\n",
    "    def __init__(self,master):\n",
    "        master.title(\"Calculator\")\n",
    "        master.geometry(\"360x420+0+0\")\n",
    "        master.config(bg=\"red\")\n",
    "        master.resizable(False,False)\n",
    "        self.equation=StringVar()\n",
    "        self.entry_value=''\n",
    "\n",
    "        # Creat a textbox for given input.............\n",
    "        \n",
    "        Entry(width=17,bg=\"pink\",font=(\"Arial Bold\",28),textvariable=self.equation).place(x=0,y=0)\n",
    "\n",
    "        Button(width=11,height=4,text='(',relief='flat',bg='white',command=lambda:self.show('(')).place(x=0,y=50)\n",
    "        Button(width=11,height=4,text=')',relief='flat',bg='white',command=lambda:self.show(')')).place(x=90,y=50)\n",
    "        Button(width=11,height=4,text='%',relief='flat',bg='white',command=lambda:self.show('%')).place(x=180,y=50)\n",
    "        Button(width=11,height=4,text='*',relief='flat',bg='white',command=lambda:self.show('*')).place(x=270,y=125)\n",
    "\n",
    "        Button(width=11,height=4,text='2',relief='flat',bg='white',command=lambda:self.show(2)).place(x=0,y=125)\n",
    "        Button(width=11,height=4,text='3',relief='flat',bg='white',command=lambda:self.show(3)).place(x=90,y=125)\n",
    "        Button(width=11,height=4,text='4',relief='flat',bg='white',command=lambda:self.show(4)).place(x=180,y=125)\n",
    "        Button(width=11,height=4,text='5',relief='flat',bg='white',command=lambda:self.show(5)).place(x=0,y=200)\n",
    "        Button(width=11,height=4,text='6',relief='flat',bg='white',command=lambda:self.show(6)).place(x=90,y=200)\n",
    "        Button(width=11,height=4,text='7',relief='flat',bg='white',command=lambda:self.show(7)).place(x=180,y=200)\n",
    "        Button(width=11,height=4,text='8',relief='flat',bg='white',command=lambda:self.show(8)).place(x=0,y=275)\n",
    "        Button(width=11,height=4,text='9',relief='flat',bg='white',command=lambda:self.show(9)).place(x=180,y=275)\n",
    "        Button(width=11,height=4,text='0',relief='flat',bg='white',command=lambda:self.show(0)).place(x=90,y=275)\n",
    "        Button(width=11,height=4,text='.',relief='flat',bg='white',command=lambda:self.show('.')).place(x=90,y=350)\n",
    "        Button(width=11,height=4,text='+',relief='flat',bg='white',command=lambda:self.show('+')).place(x=270,y=275)\n",
    "        Button(width=11,height=4,text='-',relief='flat',bg='white',command=lambda:self.show('-')).place(x=270,y=200)\n",
    "        Button(width=11,height=4,text='/',relief='flat',bg='white',command=lambda:self.show('/')).place(x=270,y=50)\n",
    "        Button(width=11,height=4,text='1',relief='flat',bg='white',command=lambda:self.show('1')).place(x=180,y=350)\n",
    "        Button(width=11,height=4,text='=',relief='flat',bg='pink',command=self.solve).place(x=270,y=350)\n",
    "        Button(width=11,height=4,text='c',relief='flat',bg='pink',command=self.clear).place(x=0,y=350)\n",
    " \n",
    "\n",
    "\n",
    "    def show(self,value):\n",
    "        self.entry_value+=str(value)\n",
    "        self.equation.set(self.entry_value)\n",
    "\n",
    "    def clear(self):\n",
    "        self.entry_value=\"\"\n",
    "        self.equation.set(self.entry_value)\n",
    "\n",
    "    def solve(self):\n",
    "        result=eval(self.entry_value)\n",
    "        self.equation.set(result)\n",
    "\n",
    "root=Tk()\n",
    "calculator=Calculator(root)\n",
    "root.mainloop()"
   ]
  },
  {
   "cell_type": "code",
   "execution_count": null,
   "id": "d07ad2b6-127e-4441-af8a-96144d32c1c8",
   "metadata": {},
   "outputs": [],
   "source": []
  },
  {
   "cell_type": "code",
   "execution_count": null,
   "id": "481e9010-b86c-4508-bb94-51ffa44ce590",
   "metadata": {},
   "outputs": [],
   "source": []
  }
 ],
 "metadata": {
  "kernelspec": {
   "display_name": "Python 3 (ipykernel)",
   "language": "python",
   "name": "python3"
  },
  "language_info": {
   "codemirror_mode": {
    "name": "ipython",
    "version": 3
   },
   "file_extension": ".py",
   "mimetype": "text/x-python",
   "name": "python",
   "nbconvert_exporter": "python",
   "pygments_lexer": "ipython3",
   "version": "3.12.4"
  }
 },
 "nbformat": 4,
 "nbformat_minor": 5
}
